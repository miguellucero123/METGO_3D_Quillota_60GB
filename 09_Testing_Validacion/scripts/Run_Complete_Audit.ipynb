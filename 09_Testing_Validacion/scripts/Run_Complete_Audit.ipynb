{
 "cells": [
  {
   "cell_type": "code",
   "execution_count": 1,
   "id": "5792ff82-a0d6-4cb1-841a-6a89c864414e",
   "metadata": {},
   "outputs": [
    {
     "name": "stdin",
     "output_type": "stream",
     "text": [
      "Selecciona tipo de auditoría:\n",
      "1 - Completa (recomendado)\n",
      "2 - Express (rápida)\n",
      "Opción:  1\n"
     ]
    },
    {
     "name": "stdout",
     "output_type": "stream",
     "text": [
      "🌡️ AUDITORÍA COMPLETA - PROYECTO MIP QUILLOTA\n",
      "============================================================\n",
      "\n",
      "1️⃣ REALIZANDO OVERVIEW DEL PROYECTO...\n"
     ]
    },
    {
     "ename": "NameError",
     "evalue": "name 'show_project_overview' is not defined",
     "output_type": "error",
     "traceback": [
      "\u001b[1;31m---------------------------------------------------------------------------\u001b[0m",
      "\u001b[1;31mNameError\u001b[0m                                 Traceback (most recent call last)",
      "Cell \u001b[1;32mIn[1], line 82\u001b[0m\n\u001b[0;32m     80\u001b[0m     express_audit()\n\u001b[0;32m     81\u001b[0m \u001b[38;5;28;01melse\u001b[39;00m:\n\u001b[1;32m---> 82\u001b[0m     main_audit_workflow()\n",
      "Cell \u001b[1;32mIn[1], line 18\u001b[0m, in \u001b[0;36mmain_audit_workflow\u001b[1;34m()\u001b[0m\n\u001b[0;32m     16\u001b[0m \u001b[38;5;66;03m# Paso 1: Overview rápido\u001b[39;00m\n\u001b[0;32m     17\u001b[0m \u001b[38;5;28mprint\u001b[39m(\u001b[38;5;124m\"\u001b[39m\u001b[38;5;130;01m\\n\u001b[39;00m\u001b[38;5;124m1️⃣ REALIZANDO OVERVIEW DEL PROYECTO...\u001b[39m\u001b[38;5;124m\"\u001b[39m)\n\u001b[1;32m---> 18\u001b[0m show_project_overview()\n\u001b[0;32m     20\u001b[0m \u001b[38;5;66;03m# Paso 2: Auditoría completa\u001b[39;00m\n\u001b[0;32m     21\u001b[0m \u001b[38;5;28mprint\u001b[39m(\u001b[38;5;124m\"\u001b[39m\u001b[38;5;130;01m\\n\u001b[39;00m\u001b[38;5;124m2️⃣ EJECUTANDO AUDITORÍA COMPLETA...\u001b[39m\u001b[38;5;124m\"\u001b[39m)\n",
      "\u001b[1;31mNameError\u001b[0m: name 'show_project_overview' is not defined"
     ]
    }
   ],
   "source": [
    "# SUGERENCIA: Considera dividir esta celda en múltiples celdas más pequeñas\n",
    "# SUGERENCIA: Considera dividir esta celda en múltiples celdas más pequeñas\n",
    "# SUGERENCIA: Considera dividir esta celda en múltiples celdas más pequeñas\n",
    "# SUGERENCIA: Considera dividir esta celda en múltiples celdas más pequeñas\n",
    "# SUGERENCIA: Considera dividir esta celda en múltiples celdas más pequeñas\n",
    "# SUGERENCIA: Considera dividir esta celda en múltiples celdas más pequeñas\n",
    "# SUGERENCIA: Considera dividir esta celda en múltiples celdas más pequeñas\n",
    "# SUGERENCIA: Considera dividir esta celda en múltiples celdas más pequeñas\n",
    "# SUGERENCIA: Considera dividir esta celda en múltiples celdas más pequeñas\n",
    "# SCRIPT MAESTRO PARA AUDITORÍA COMPLETA DEL PROYECTO MIP QUILLOTA\n",
    "\n",
    "import sys\n",
    "from pathlib import Path\n",
    "import warnings\n",
    "warnings.filterwarnings('ignore')\n",
    "\n",
    "# Configuración del proyecto\n",
    "PROJECT_PATH = r\"C:\\Users\\Alicia_Piero\\Documents\\Repo_AIEP\\MIP_QUILLOTA\\Proyecto_METGO_3D\"\n",
    "\n",
    "def main_audit_workflow():\n",
    "    \"\"\"Flujo principal de auditoría\"\"\"\n",
    "    print(\"🌡️ AUDITORÍA COMPLETA - PROYECTO MIP QUILLOTA\")\n",
    "    print(\"=\"*60)\n",
    "    \n",
    "    # Paso 1: Overview rápido\n",
    "    print(\"\\n1️⃣ REALIZANDO OVERVIEW DEL PROYECTO...\")\n",
    "    show_project_overview()\n",
    "    \n",
    "    # Paso 2: Auditoría completa\n",
    "    print(\"\\n2️⃣ EJECUTANDO AUDITORÍA COMPLETA...\")\n",
    "    auditor = MIPQuillotaAuditor(PROJECT_PATH)\n",
    "    auditor.generate_mip_report()\n",
    "    \n",
    "    # Paso 3: Check de monitoreo\n",
    "    print(\"\\n3️⃣ STATUS ACTUAL DEL PROYECTO...\")\n",
    "    monitor = MIPProjectMonitor(PROJECT_PATH)\n",
    "    status = monitor.check_project_status()\n",
    "    issues = monitor.detect_issues(status)\n",
    "    recommendations = monitor.generate_recommendations(status, issues)\n",
    "    monitor.display_dashboard(status, issues, recommendations)\n",
    "    \n",
    "    # Paso 4: Opciones de mejora\n",
    "    print(\"\\n4️⃣ OPCIONES DISPONIBLES:\")\n",
    "    print(\"   🔧 Para aplicar fixes automáticos:\")\n",
    "    print(\"      fixer = MIPQuickFixer(PROJECT_PATH)\")\n",
    "    print(\"      fixer.fix_all_notebooks()\")\n",
    "    print()\n",
    "    print(\"   📊 Para monitoreo continuo:\")\n",
    "    print(\"      monitor.start_monitoring(interval_minutes=5, duration_hours=1)\")\n",
    "    print()\n",
    "    print(\"   📋 Los reportes se han guardado en tu directorio del proyecto\")\n",
    "    \n",
    "    print(f\"\\n🎉 AUDITORÍA COMPLETADA!\")\n",
    "    print(f\"📁 Revisa los archivos generados en: {PROJECT_PATH}\")\n",
    "\n",
    "# Función para auditoría express (solo lo esencial)\n",
    "def express_audit():\n",
    "    \"\"\"Auditoría rápida para uso diario\"\"\"\n",
    "    print(\"⚡ AUDITORÍA EXPRESS - MIP QUILLOTA\")\n",
    "    print(\"=\"*40)\n",
    "    \n",
    "    auditor = MIPQuillotaAuditor(PROJECT_PATH)\n",
    "    auditor.scan_project_structure()\n",
    "    \n",
    "    # Solo análisis básico\n",
    "    notebooks = auditor.notebooks[:3]  # Solo primeros 3 notebooks\n",
    "    print(f\"\\n🔍 Analizando {len(notebooks)} notebooks principales...\")\n",
    "    \n",
    "    for notebook in notebooks:\n",
    "        code_cells = auditor.extract_code_from_notebook(notebook)\n",
    "        total_issues = 0\n",
    "        \n",
    "        for cell in code_cells[:2]:  # Solo primeras 2 celdas por notebook\n",
    "            if cell['content'].strip():\n",
    "                practices = auditor.check_mip_best_practices(cell['content'])\n",
    "                issues = sum(len(issues) for issues in practices.values())\n",
    "                total_issues += issues\n",
    "        \n",
    "        print(f\"  📄 {notebook.name}: {total_issues} issues encontrados\")\n",
    "    \n",
    "    print(f\"\\n✅ Auditoría express completada\")\n",
    "\n",
    "# EJECUCIÓN\n",
    "if __name__ == \"__main__\":\n",
    "    # Elegir tipo de auditoría\n",
    "    audit_type = input(\"Selecciona tipo de auditoría:\\n1 - Completa (recomendado)\\n2 - Express (rápida)\\nOpción: \")\n",
    "    \n",
    "    if audit_type == \"2\":\n",
    "        express_audit()\n",
    "    else:\n",
    "        main_audit_workflow()"
   ]
  },
  {
   "cell_type": "code",
   "execution_count": null,
   "id": "2663b231-e484-440f-9779-0bd654b4f83f",
   "metadata": {},
   "outputs": [],
   "source": []
  }
 ],
 "metadata": {
  "kernelspec": {
   "display_name": "Python 3 (ipykernel)",
   "language": "python",
   "name": "python3"
  },
  "language_info": {
   "codemirror_mode": {
    "name": "ipython",
    "version": 3
   },
   "file_extension": ".py",
   "mimetype": "text/x-python",
   "name": "python",
   "nbconvert_exporter": "python",
   "pygments_lexer": "ipython3",
   "version": "3.12.7"
  }
 },
 "nbformat": 4,
 "nbformat_minor": 5
}
