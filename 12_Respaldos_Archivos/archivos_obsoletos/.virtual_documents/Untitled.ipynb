# ===============================================================================
# INTEGRACIÓN CON OPENMETEO API
# ===============================================================================

def importar_datos_openmeteo(latitud=-32.8833, longitud=-71.25, dias_historicos=365, incluir_pronostico=True):
    """
    Importa datos meteorológicos reales desde OpenMeteo API
    
    Parámetros:
    -----------
    latitud : float
        Latitud de Quillota (-32.8833)
    longitud : float  
        Longitud de Quillota (-71.25)
    dias_historicos : int
        Número de días históricos a obtener
    incluir_pronostico : bool
        Si incluir pronóstico de 7 días
    
    Retorna:
    --------
    pandas.DataFrame
        DataFrame con datos meteorológicos reales
    """
    
    print("🌐 CONECTANDO CON OPENMETEO API")
    print(f"📍 Ubicación: Quillota ({latitud}, {longitud})")
    print("="*60)
    
    try:
        import requests
        from datetime import datetime, timedelta
        
        # Fechas para datos históricos
        fecha_fin = datetime.now().date()
        fecha_inicio = fecha_fin - timedelta(days=dias_historicos)
        
        print(f"📅 Período histórico: {fecha_inicio} a {fecha_fin}")
        
        # URL base de OpenMeteo
        url_base = "https://api.open-meteo.com/v1/forecast"
        
        # Parámetros para la API
        parametros = {
            'latitude': latitud,
            'longitude': longitud,
            'start_date': fecha_inicio.strftime('%Y-%m-%d'),
            'end_date': fecha_fin.strftime('%Y-%m-%d'),
            'daily': [
                'temperature_2m_max',
                'temperature_2m_min', 
                'temperature_2m_mean',
                'relative_humidity_2m',
                'precipitation_sum',
                'windspeed_10m_max',
                'pressure_msl_mean',
                'sunshine_duration',
                'et0_fao_evapotranspiration'
            ],
            'timezone': 'America/Santiago'
        }
        
        print("🔄 Realizando solicitud a OpenMeteo...")
        print(f"   Variables solicitadas: {len(parametros['daily'])}")
        
        # Realizar solicitud HTTP
        response = requests.get(url_base, params=parametros, timeout=30)
        
        if response.status_code == 200:
            datos_json = response.json()
            print("✅ Datos recibidos exitosamente")
            
            # Procesar respuesta JSON
            datos_diarios = datos_json.get('daily', {})
            fechas = datos_diarios.get('time', [])
            
            if not fechas:
                print("❌ No se recibieron fechas en la respuesta")
                return None
            
            print(f"📊 Procesando {len(fechas)} días de datos...")
            
            # Crear DataFrame con datos reales
            datos_procesados = []
            
            for i, fecha_str in enumerate(fechas):
                try:
                    fecha = pd.to_datetime(fecha_str)
                    
                    registro = {
                        'fecha': fecha,
                        'temperatura_max': datos_diarios.get('temperature_2m_max', [None] * len(fechas))[i],
                        'temperatura_min': datos_diarios.get('temperature_2m_min', [None] * len(fechas))[i],
                        'temperatura_promedio': datos_diarios.get('temperature_2m_mean', [None] * len(fechas))[i],
                        'humedad_relativa': datos_diarios.get('relative_humidity_2m', [None] * len(fechas))[i],
                        'precipitacion': datos_diarios.get('precipitation_sum', [None] * len(fechas))[i],
                        'velocidad_viento': datos_diarios.get('windspeed_10m_max', [None] * len(fechas))[i],
                        'presion_atmosferica': datos_diarios.get('pressure_msl_mean', [None] * len(fechas))[i],
                        'horas_sol': datos_diarios.get('sunshine_duration', [None] * len(fechas))[i],
                        'evapotranspiracion': datos_diarios.get('et0_fao_evapotranspiration', [None] * len(fechas))[i]
                    }
                    
                    # Validar que al menos temperatura esté disponible
                    if registro['temperatura_max'] is not None or registro['temperatura_min'] is not None:
                        datos_procesados.append(registro)
                
                except Exception as e:
                    print(f"⚠️ Error procesando fecha {fecha_str}: {e}")
                    continue
            
            if not datos_procesados:
                print("❌ No se pudieron procesar los datos recibidos")
                return None
            
            # Crear DataFrame
            df_openmeteo = pd.DataFrame(datos_procesados)
            
            # Estadísticas de datos recibidos
            print(f"✅ DATOS OPENMETEO PROCESADOS:")
            print(f"   📊 Total registros: {len(df_openmeteo)}")
            print(f"   📅 Rango: {df_openmeteo['fecha'].min().strftime('%Y-%m-%d')} a {df_openmeteo['fecha'].max().strftime('%Y-%m-%d')}")
            
            # Mostrar estadísticas por variable
            for col in ['temperatura_max', 'temperatura_min', 'humedad_relativa', 'precipitacion']:
                if col in df_openmeteo.columns:
                    valores_validos = df_openmeteo[col].dropna()
                    if len(valores_validos) > 0:
                        print(f"   🔹 {col}: {len(valores_validos)} valores válidos (min: {valores_validos.min():.1f}, max: {valores_validos.max():.1f})")
                    else:
                        print(f"   ⚠️ {col}: Sin datos válidos")
            
            # Obtener pronóstico si se solicita
            if incluir_pronostico:
                print("\n🔮 Obteniendo pronóstico de 7 días...")
                pronostico = obtener_pronostico_openmeteo(latitud, longitud, dias=7)
                
                if pronostico is not None and len(pronostico) > 0:
                    # Combinar datos históricos con pronóstico
                    df_combinado = pd.concat([df_openmeteo, pronostico], ignore_index=True)
                    df_combinado = df_combinado.drop_duplicates(subset=['fecha'], keep='first')
                    df_combinado = df_combinado.sort_values('fecha').reset_index(drop=True)
                    
                    print(f"   ✅ Pronóstico agregado: {len(pronostico)} días")
                    print(f"   📊 Total con pronóstico: {len(df_combinado)} registros")
                    
                    return df_combinado
            
            return df_openmeteo
            
        else:
            print(f"❌ Error en solicitud HTTP: {response.status_code}")
            print(f"   Respuesta: {response.text[:200]}...")
            return None
            
    except requests.exceptions.RequestException as e:
        print(f"❌ Error de conexión: {e}")
        print("💡 Verificar conexión a internet")
        return None
        
    except Exception as e:
        print(f"❌ Error inesperado: {e}")
        import traceback
        traceback.print_exc()
        return None

def obtener_pronostico_openmeteo(latitud=-32.8833, longitud=-71.25, dias=7):
    """
    Obtiene pronóstico meteorológico desde OpenMeteo
    
    Parámetros:
    -----------
    latitud : float
        Latitud de la ubicación
    longitud : float
        Longitud de la ubicación  
    dias : int
        Número de días de pronóstico
    
    Retorna:
    --------
    pandas.DataFrame
        DataFrame con pronóstico meteorológico
    """
    
    try:
        import requests
        from datetime import datetime, timedelta
        
        # Fechas para pronóstico (desde hoy hacia adelante)
        fecha_inicio = datetime.now().date()
        fecha_fin = fecha_inicio + timedelta(days=dias)
        
        print(f"   📅 Pronóstico: {fecha_inicio} a {fecha_fin}")
        
        # URL para pronóstico
        url_forecast = "https://api.open-meteo.com/v1/forecast"
        
        parametros_forecast = {
            'latitude': latitud,
            'longitude': longitud,
            'daily': [
                'temperature_2m_max',
                'temperature_2m_min',
                'temperature_2m_mean', 
                'relative_humidity_2m',
                'precipitation_sum',
                'windspeed_10m_max',
                'pressure_msl_mean'
            ],
            'timezone': 'America/Santiago',
            'forecast_days': dias
        }
        
        response = requests.get(url_forecast, params=parametros_forecast, timeout=15)
        
        if response.status_code == 200:
            datos_json = response.json()
            datos_diarios = datos_json.get('daily', {})
            fechas = datos_diarios.get('time', [])
            
            pronostico_procesado = []
            
            for i, fecha_str in enumerate(fechas):
                try:
                    fecha = pd.to_datetime(fecha_str)
                    
                    registro = {
                        'fecha': fecha,
                        'temperatura_max': datos_diarios.get('temperature_2m_max', [None] * len(fechas))[i],
                        'temperatura_min': datos_diarios.get('temperature_2m_min', [None] * len(fechas))[i],
                        'temperatura_promedio': datos_diarios.get('temperature_2m_mean', [None] * len(fechas))[i],
                        'humedad_relativa': datos_diarios.get('relative_humidity_2m', [None] * len(fechas))[i],
                        'precipitacion': datos_diarios.get('precipitation_sum', [None] * len(fechas))[i],
                        'velocidad_viento': datos_diarios.get('windspeed_10m_max', [None] * len(fechas))[i],
                        'presion_atmosferica': datos_diarios.get('pressure_msl_mean', [None] * len(fechas))[i],
                        'es_pronostico': True  # Marcar como datos de pronóstico
                    }
                    
                    pronostico_procesado.append(registro)
                    
                except Exception as e:
                    print(f"   ⚠️ Error procesando pronóstico para {fecha_str}: {e}")
                    continue
            
            if pronostico_procesado:
                return pd.DataFrame(pronostico_procesado)
            else:
                return None
                
        else:
            print(f"   ❌ Error obteniendo pronóstico: {response.status_code}")
            return None
            
    except Exception as e:
        print(f"   ❌ Error en pronóstico: {e}")
        return None

def cargar_datos_con_openmeteo(usar_cache=True, forzar_actualizacion=False):
    """
    Función principal para cargar datos combinando OpenMeteo con cache local
    
    Parámetros:
    -----------
    usar_cache : bool
        Si usar datos en cache cuando estén disponibles
    forzar_actualizacion : bool
        Si forzar actualización desde OpenMeteo
    
    Retorna:
    --------
    pandas.DataFrame
        DataFrame con datos meteorológicos actualizados
    """
    
    print("📊 CARGANDO DATOS METEOROLÓGICOS PARA QUILLOTA")
    print("="*60)
    
    datos_finales = None
    fuente_datos = "desconocida"
    
    # Intentar cargar desde cache primero
    if usar_cache and not forzar_actualizacion:
        print("💾 Verificando cache local...")
        
        # Buscar archivos de cache existentes
        import os
        import glob
        
        archivos_cache = glob.glob("datos_*_quillota_*.csv")
        archivos_cache.extend(glob.glob("datos_*_quillota_*.xlsx"))
        
        if archivos_cache:
            # Usar el archivo más reciente
            archivo_mas_reciente = max(archivos_cache, key=os.path.getctime)
            print(f"   ✅ Cache encontrado: {archivo_mas_reciente}")
            
            try:
                if archivo_mas_reciente.endswith('.csv'):
                    datos_cache = pd.read_csv(archivo_mas_reciente, parse_dates=['fecha'])
                else:
                    datos_cache = pd.read_excel(archivo_mas_reciente, parse_dates=['fecha'])
                
                # Verificar edad del cache (máximo 1 día)
                fecha_archivo = datetime.fromtimestamp(os.path.getctime(archivo_mas_reciente))
                edad_cache = (datetime.now() - fecha_archivo).total_seconds() / 3600  # horas
                
                if edad_cache < 24:  # Cache válido por 24 horas
                    print(f"   ✅ Cache válido (edad: {edad_cache:.1f} horas)")
                    datos_finales = datos_cache
                    fuente_datos = "cache_local"
                else:
                    print(f"   ⚠️ Cache obsoleto (edad: {edad_cache:.1f} horas)")
            
            except Exception as e:
                print(f"   ❌ Error leyendo cache: {e}")
    
    # Si no hay cache válido, obtener desde OpenMeteo
    if datos_finales is None or forzar_actualizacion:
        print("🌐 Obteniendo datos desde OpenMeteo...")
        
        # Configuración para Quillota
        QUILLOTA_LAT = -32.8833
        QUILLOTA_LON = -71.25
        
        datos_openmeteo = importar_datos_openmeteo(
            latitud=QUILLOTA_LAT,
            longitud=QUILLOTA_LON,
            dias_historicos=365,
            incluir_pronostico=True
        )
        
        if datos_openmeteo is not None:
            datos_finales = datos_openmeteo
            fuente_datos = "openmeteo_api"
            
            # Guardar en cache para uso futuro
            print("💾 Guardando en cache...")
            try:
                timestamp = datetime.now().strftime("%Y%m%d_%H%M%S")
                archivo_cache = f"datos_openmeteo_quillota_{timestamp}.csv"
                datos_openmeteo.to_csv(archivo_cache, index=False)
                print(f"   ✅ Cache guardado: {archivo_cache}")
            except Exception as e:
                print(f"   ⚠️ Error guardando cache: {e}")
        
        else:
            print("❌ No se pudieron obtener datos desde OpenMeteo")
    
    # Si todo falla, usar datos sintéticos como respaldo
    if datos_finales is None:
        print("🔄 Generando datos sintéticos como respaldo...")
        
        try:
            # Usar la función existente de datos sintéticos
            if 'generar_datos_meteorologicos' in globals():
                datos_finales = generar_datos_meteorologicos(dias=365, incluir_extremos=True)
                fuente_datos = "sintetico_respaldo"
            else:
                # Crear datos básicos si la función no existe
                fechas = pd.date_range(start='2024-01-01', periods=365, freq='D')
                np.random.seed(42)
                
                datos_finales = pd.DataFrame({
                    'fecha': fechas,
                    'temperatura_max': np.random.normal(20, 8, 365),
                    'temperatura_min': np.random.normal(10, 5, 365),
                    'humedad_relativa': np.random.uniform(30, 95, 365),
                    'precipitacion': np.random.exponential(1, 365),
                    'velocidad_viento': np.random.gamma(2, 3, 365),
                    'presion_atmosferica': np.random.normal(1013, 15, 365)
                })
                fuente_datos = "sintetico_basico"
            
            print("   ✅ Datos sintéticos generados como respaldo")
            
        except Exception as e:
            print(f"   ❌ Error generando datos sintéticos: {e}")
            return None
    
    # Procesar y validar datos finales
    if datos_finales is not None:
        print(f"\n✅ DATOS CARGADOS EXITOSAMENTE")
        print(f"📍 Fuente: {fuente_datos}")
        print(f"📊 Registros: {len(datos_finales)}")
        
        if 'fecha' in datos_finales.columns:
            print(f"📅 Rango: {datos_finales['fecha'].min().strftime('%Y-%m-%d')} a {datos_finales['fecha'].max().strftime('%Y-%m-%d')}")
        
        # Estadísticas rápidas
        columnas_numericas = datos_finales.select_dtypes(include=[np.number]).columns
        print(f"🔢 Variables numéricas: {len(columnas_numericas)}")
        
        # Verificar completitud
        completitud = (datos_finales.isnull().sum() / len(datos_finales) * 100).round(1)
        columnas_completas = (completitud == 0).sum()
        print(f"✅ Columnas completas: {columnas_completas}/{len(datos_finales.columns)}")
        
        # Marcar fuente en los datos
        datos_finales['fuente_datos'] = fuente_datos
        
        # Actualizar variable global
        globals()['datos_meteorologicos'] = datos_finales
        
        print("🌾 Datos meteorológicos listos para agricultura de precisión")
        
        return datos_finales
    
    else:
        print("❌ No se pudieron cargar datos desde ninguna fuente")
        return None

# ===============================================================================
# FUNCIÓN MEJORADA PARA INTEGRAR CON EL PIPELINE EXISTENTE
# ===============================================================================

def actualizar_pipeline_con_openmeteo():
    """
    Actualiza el pipeline existente para usar datos de OpenMeteo
    """
    
    print("🔄 ACTUALIZANDO PIPELINE CON DATOS DE OPENMETEO")
    print("="*60)
    
    try:
        # 1. Cargar datos reales
        print("1️⃣ Cargando datos meteorológicos reales...")
        datos_reales = cargar_datos_con_openmeteo(usar_cache=True, forzar_actualizacion=False)
        
        if datos_reales is None:
            print("❌ No se pudieron cargar datos reales")
            return False
        
        # 2. Procesar datos para ML (reutilizar función existente)
        print("2️⃣ Procesando datos para Machine Learning...")
        
        # Usar la función de procesamiento existente
        if 'procesar_datos_meteorologicos' in globals():
            try:
                datos_procesados = procesar_datos_meteorologicos(datos_reales)
                print("   ✅ Datos procesados con función existente")
            except Exception as e:
                print(f"   ⚠️ Error en procesamiento existente: {e}")
                datos_procesados = datos_reales
        else:
            datos_procesados = datos_reales
        
        # 3. Validar calidad de datos reales
        print("3️⃣ Validando calidad de datos OpenMeteo...")
        
        if 'validar_calidad_datos' in globals():
            try:
                reporte_calidad = validar_calidad_datos(datos_procesados)
                print(f"   ✅ Validación completada - Calidad: {reporte_calidad.get('calidad_general', 'No evaluada')}")
            except Exception as e:
                print(f"   ⚠️ Error en validación: {e}")
        
        # Verificaciones básicas de calidad
        registros_validos = len(datos_procesados.dropna(subset=['temperatura_max', 'temperatura_min']))
        porcentaje_validez = (registros_validos / len(datos_procesados)) * 100
        
        print(f"   📊 Registros válidos: {registros_validos}/{len(datos_procesados)} ({porcentaje_validez:.1f}%)")
        
        # 4. Comparar con datos sintéticos previos
        print("4️⃣ Comparando con datos sintéticos anteriores...")
        
        if 'datos_meteorologicos' in globals() and globals()['datos_meteorologicos'] is not None:
            datos_anteriores = globals()['datos_meteorologicos']
            
            # Comparar estadísticas básicas
            if 'temperatura_max' in datos_anteriores.columns and 'temperatura_max' in datos_procesados.columns:
                temp_max_anterior = datos_anteriores['temperatura_max'].mean()
                temp_max_nueva = datos_procesados['temperatura_max'].mean()
                
                print(f"   🌡️ Temperatura máx promedio:")
                print(f"      Anterior: {temp_max_anterior:.1f}°C")
                print(f"      OpenMeteo: {temp_max_nueva:.1f}°C")
                print(f"      Diferencia: {abs(temp_max_nueva - temp_max_anterior):.1f}°C")
        
        # 5. Actualizar variables globales
        print("5️⃣ Actualizando sistema con datos reales...")
        
        # Backup de datos anteriores
        if 'datos_meteorologicos' in globals():
            globals()['datos_meteorologicos_backup'] = globals()['datos_meteorologicos']
            print("   💾 Backup de datos anteriores creado")
        
        # Actualizar con datos reales
        globals()['datos_meteorologicos'] = datos_procesados
        globals()['fuente_datos_actual'] = 'OpenMeteo API'
        globals()['ultima_actualizacion'] = pd.Timestamp.now()
        
        print("   ✅ Variables globales actualizadas")
        
        # 6. Limpiar y enriquecer datos
        print("6️⃣ Limpiando y enriqueciendo datos...")
        
        if 'limpiar_datos_meteorologicos' in globals():
            try:
                datos_limpios = limpiar_datos_meteorologicos(datos_procesados)
                globals()['datos_meteorologicos'] = datos_limpios
                print("   ✅ Datos limpiados exitosamente")
            except Exception as e:
                print(f"   ⚠️ Error en limpieza: {e}")
        
        # 7. Ejecutar análisis actualizado
        print("7️⃣ Ejecutando análisis con datos reales...")
        
        try:
            # Análisis estadístico
            if len(datos_procesados) > 0:
                print("   📈 Estadísticas de datos reales:")
                
                for col in ['temperatura_max', 'temperatura_min', 'precipitacion', 'humedad_relativa']:
                    if col in datos_procesados.columns:
                        serie = datos_procesados[col].dropna()
                        if len(serie) > 0:
                            print(f"      {col}: {serie.min():.1f} - {serie.max():.1f} (prom: {serie.mean():.1f})")
            
            # Detección de eventos extremos con datos reales
            eventos_extremos = detectar_eventos_extremos_openmeteo(datos_procesados)
            if eventos_extremos:
                print(f"   ⚠️ Eventos extremos detectados: {len(eventos_extremos)}")
            
        except Exception as e:
            print(f"   ⚠️ Error en análisis: {e}")
        
        # 8. Preparar datos para ML con información real
        print("8️⃣ Preparando datos reales para Machine Learning...")
        
        try:
            # Verificar si podemos usar el pipeline ML existente
            if 'preparar_datos_ml' in globals():
                datos_ml_openmeteo = preparar_datos_ml(
                    datos_procesados, 
                    target_column='temperatura_max', 
                    dias_adelante=1
                )
                
                if datos_ml_openmeteo is not None:
                    print("   ✅ Datos OpenMeteo preparados para ML")
                    X_train, X_test, y_train, y_test, features = datos_ml_openmeteo
                    print(f"      🚂 Entrenamiento: {len(X_train)} muestras")
                    print(f"      🧪 Prueba: {len(X_test)} muestras")
                    print(f"      📊 Características: {len(features)}")
                else:
                    print("   ⚠️ No se pudieron preparar datos para ML")
        
        except Exception as e:
            print(f"   ❌ Error preparando datos ML: {e}")
        
        print("✅ PIPELINE ACTUALIZADO CON DATOS OPENMETEO")
        print("="*60)
        
        return True
        
    except Exception as e:
        print(f"❌ ERROR ACTUALIZANDO PIPELINE: {e}")
        import traceback
        traceback.print_exc()
        return False

def detectar_eventos_extremos_openmeteo(datos):
    """
    Detecta eventos extremos en datos reales de OpenMeteo
    
    Parámetros:
    -----------
    datos : pandas.DataFrame
        DataFrame con datos meteorológicos
    
    Retorna:
    --------
    list
        Lista de eventos extremos detectados
    """
    
    eventos = []
    
    try:
        if 'temperatura_max' in datos.columns:
            # Temperaturas extremas
            temp_muy_alta = datos[datos['temperatura_max'] >= 35]
            temp_muy_baja = datos[datos['temperatura_min'] <= 0]
            
            for _, row in temp_muy_alta.iterrows():
                eventos.append({
                    'fecha': row['fecha'],
                    'tipo': 'temperatura_alta',
                    'valor': row['temperatura_max'],
                    'descripcion': f"Temperatura máxima {row['temperatura_max']:.1f}°C"
                })
            
            for _, row in temp_muy_baja.iterrows():
                eventos.append({
                    'fecha': row['fecha'], 
                    'tipo': 'helada',
                    'valor': row['temperatura_min'],
                    'descripcion': f"Helada {row['temperatura_min']:.1f}°C"
                })
        
        if 'precipitacion' in datos.columns:
            # Precipitaciones intensas
            lluvia_intensa = datos[datos['precipitacion'] >= 20]
            
            for _, row in lluvia_intensa.iterrows():
                eventos.append({
                    'fecha': row['fecha'],
                    'tipo': 'precipitacion_intensa', 
                    'valor': row['precipitacion'],
                    'descripcion': f"Lluvia intensa {row['precipitacion']:.1f}mm"
                })
        
        if 'velocidad_viento' in datos.columns:
            # Vientos fuertes
            viento_fuerte = datos[datos['velocidad_viento'] >= 40]
            
            for _, row in viento_fuerte.iterrows():
                eventos.append({
                    'fecha': row['fecha'],
                    'tipo': 'viento_fuerte',
                    'valor': row['velocidad_viento'], 
                    'descripcion': f"Viento fuerte {row['velocidad_viento']:.1f} km/h"
                })
        
        # Ordenar por fecha
        eventos.sort(key=lambda x: x['fecha'])
        
        return eventos
        
    except Exception as e:
        print(f"Error detectando eventos extremos: {e}")
        return []

def demo_con_datos_reales():
    """
    Demostración completa del sistema usando datos reales de OpenMeteo
    """
    
    print("🌐 DEMOSTRACIÓN CON DATOS REALES DE OPENMETEO")
    print("="*70)
    
    try:
        # 1. Actualizar pipeline con datos reales
        print("🔄 Paso 1: Actualizando sistema con datos reales...")
        exito_actualizacion = actualizar_pipeline_con_openmeteo()
        
        if not exito_actualizacion:
            print("❌ No se pudo actualizar con datos reales, usando datos disponibles")
        
        # 2. Ejecutar pipeline ML con datos actualizados
        print("\n🤖 Paso 2: Ejecutando Machine Learning con datos reales...")
        
        if 'datos_meteorologicos' in globals() and globals()['datos_meteorologicos'] is not None:
            datos_actuales = globals()['datos_meteorologicos']
            
            # Mostrar información de los datos
            fuente = datos_actuales.get('fuente_datos', [''])[0] if 'fuente_datos' in datos_actuales.columns else 'Desconocida'
            print(f"   📊 Datos disponibles: {len(datos_actuales)} registros")
            print(f"   📍 Fuente: {fuente}")
            
            if 'fecha' in datos_actuales.columns:
                fecha_min = datos_actuales['fecha'].min()
                fecha_max = datos_actuales['fecha'].max()
                print(f"   📅 Período: {fecha_min.strftime('%Y-%m-%d')} a {fecha_max.strftime('%Y-%m-%d')}")
            
            # Ejecutar pipeline completo
            if 'ejecutar_pipeline_completo_ml' in globals():
                try:
                    print("\n   🚀 Iniciando pipeline completo...")
                    resultados = ejecutar_pipeline_completo_ml(datos_actuales)
                    
                    if resultados and resultados.get('estado_final') != 'ERROR_CRITICO':
                        print("   ✅ Pipeline ML completado con datos reales")
                        
                        # Mostrar resultados específicos de datos reales
                        mostrar_resultados_datos_reales(resultados, datos_actuales)
                        
                    else:
                        print("   ⚠️ Pipeline completado con limitaciones")
                        
                except Exception as e:
                    print(f"   ❌ Error en pipeline ML: {e}")
            else:
                print("   ❌ Función de pipeline no disponible")
        
        else:
            print("   ❌ No hay datos meteorológicos disponibles")
        
        # 3. Análisis específico de datos reales vs sintéticos
        print("\n📊 Paso 3: Análisis comparativo...")
        if 'datos_meteorologicos_backup' in globals():
            comparar_datos_reales_vs_sinteticos()
        
        # 4. Recomendaciones basadas en datos reales
        print("\n💡 Paso 4: Recomendaciones basadas en datos reales...")
        generar_recomendaciones_datos_reales()
        
        print("\n✅ DEMOSTRACIÓN CON DATOS REALES COMPLETADA")
        print("="*70)
        
    except Exception as e:
        print(f"❌ ERROR EN DEMOSTRACIÓN: {e}")
        import traceback
        traceback.print_exc()

def mostrar_resultados_datos_reales(resultados, datos):
    """
    Muestra resultados específicos cuando se usan datos reales
    """
    
    print("\n📈 ANÁLISIS DE RESULTADOS CON DATOS REALES:")
    print("-"*50)
    
    try:
        # Información sobre la fuente de datos
        if 'fuente_datos' in datos.columns:
            fuentes = datos['fuente_datos'].unique()
            print(f"🌐 Fuentes de datos utilizadas: {', '.join(fuentes)}")
        
        # Análisis de eventos extremos reales
        eventos_reales = detectar_eventos_extremos_openmeteo(datos)
        if eventos_reales:
            print(f"⚠️ Eventos extremos detectados en datos reales: {len(eventos_reales)}")
            
            # Mostrar los más recientes
            eventos_recientes = sorted(eventos_reales, key=lambda x: x['fecha'])[-3:]
            for evento in eventos_recientes:
                fecha_str = evento['fecha'].strftime('%Y-%m-%d')
                print(f"   📅 {fecha_str}: {evento['descripcion']}")
        
        # Rendimiento de modelos con datos reales
        if 'metricas' in resultados:
            print(f"\n🎯 Rendimiento de modelos con datos reales:")
            
            mejor_r2 = -np.inf
            mejor_modelo = None
            
            for nombre, metricas in resultados['metricas'].items():
                if 'r2' in metricas and not np.isnan(metricas['r2']):
                    r2_val = metricas['r2']
                    print(f"   📊 {nombre}: R² = {r2_val:.4f}")
                    
                    if r2_val > mejor_r2:
                        mejor_r2 = r2_val
                        mejor_modelo = nombre
            
            if mejor_modelo:
                interpretacion_r2 = interpretar_r2_datos_reales(mejor_r2)
                print(f"   🏆 Mejor modelo: {mejor_modelo} ({interpretacion_r2})")
        
        # Calidad de predicciones futuras con datos reales
        if 'predicciones_futuras' in resultados and resultados['predicciones_futuras'] is not None:
            pred_futuras = resultados['predicciones_futuras']
            pred_validas = pred_futuras['prediccion'].dropna()
            
            if len(pred_validas) > 0:
                print(f"\n🔮 Predicciones futuras basadas en datos reales:")
                print(f"   📊 {len(pred_validas)}/7 predicciones válidas")
                
                # Comparar con patrones históricos reales
                if 'temperatura_max' in datos.columns:
                    temp_historica_prom = datos['temperatura_max'].mean()
                    temp_predicha_prom = pred_validas.mean()
                    
                    print(f"   📈 Temperatura histórica promedio: {temp_historica_prom:.1f}°C")
                    print(f"   🔮 Temperatura predicha promedio: {temp_predicha_prom:.1f}°C")
                    
                    diferencia = abs(temp_predicha_prom - temp_historica_prom)
                    if diferencia <= 2:
                        print(f"   ✅ Predicciones consistentes con histórico (diff: {diferencia:.1f}°C)")
                    else:
                        print(f"   ⚠️ Predicciones difieren del histórico (diff: {diferencia:.1f}°C)")
        
        # Alertas basadas en datos reales
        if 'alertas' in resultados and resultados['alertas']:
            alertas = resultados['alertas']
            print(f"\n🚨 Sistema de alertas con datos reales:")
            
            nivel_riesgo = alertas.get('nivel_riesgo', 'Desconocido')
            confianza = alertas.get('confianza', 0)
            
            print(f"   📊 Nivel de riesgo actual: {nivel_riesgo}")
            print(f"   🎯 Confianza del modelo: {confianza:.1%}")
            
            if alertas.get('alerta_activa', False):
                print(f"   🚨 ALERTA ACTIVA basada en datos reales")
            else:
                print(f"   ✅ Sin alertas activas según datos reales")
        
    except Exception as e:
        print(f"   ❌ Error mostrando resultados: {e}")

def interpretar_r2_datos_reales(r2_score):
    """
    Interpreta el R² específicamente para datos meteorológicos reales
    """
    
    if r2_score >= 0.9:
        return "🥇 Excelente - Modelo muy preciso con datos reales"
    elif r2_score >= 0.8:
        return "🥈 Muy bueno - Precisión alta con datos reales" 
    elif r2_score >= 0.7:
        return "🥉 Bueno - Precisión aceptable con datos reales"
    elif r2_score >= 0.5:
        return "⚠️ Regular - Necesita mejoras con datos reales"
    elif r2_score >= 0.0:
        return "🔴 Bajo - Revisar características con datos reales"
    else:
        return "❌ Muy bajo - Modelo peor que media con datos reales"

def comparar_datos_reales_vs_sinteticos():
    """
    Compara resultados entre datos reales y sintéticos
    """
    
    print("🔄 COMPARACIÓN: DATOS REALES vs SINTÉTICOS")
    print("-"*50)
    
    try:
        datos_reales = globals().get('datos_meteorologicos')
        datos_sinteticos = globals().get('datos_meteorologicos_backup')
        
        if datos_reales is not None and datos_sinteticos is not None:
            
            # Comparar estadísticas básicas
            comparaciones = []
            
            for col in ['temperatura_max', 'temperatura_min', 'precipitacion', 'humedad_relativa']:
                if col in datos_reales.columns and col in datos_sinteticos.columns:
                    real_mean = datos_reales[col].mean()
                    sint_mean = datos_sinteticos[col].mean()
                    diferencia = abs(real_mean - sint_mean)
                    
                    comparaciones.append({
                        'variable': col,
                        'real': real_mean,
                        'sintetico': sint_mean, 
                        'diferencia': diferencia
                    })
            
            print("📊 Estadísticas comparativas:")
            for comp in comparaciones:
                print(f"   {comp['variable']}:")
                print(f"      Real: {comp['real']:.1f}")
                print(f"      Sintético: {comp['sintetico']:.1f}")
                print(f"      Diferencia: {comp['diferencia']:.1f}")
            
            # Evaluar realismo de datos sintéticos
            diferencias_promedio = np.mean([c['diferencia'] for c in comparaciones])
            
            if diferencias_promedio <= 2:
                print("✅ Datos sintéticos muy similares a los reales")
            elif diferencias_promedio <= 5:
                print("🟡 Datos sintéticos moderadamente similares a los reales")
            else:
                print("🔴 Datos sintéticos difieren significativamente de los reales")
        
        else:
            print("⚠️ No se pueden comparar datos (uno o ambos conjuntos faltantes)")
            
    except Exception as e:
        print(f"❌ Error en comparación: {e}")

def generar_recomendaciones_datos_reales():
    """
    Genera recomendaciones específicas basadas en datos reales
    """
    
    print("💡 RECOMENDACIONES BASADAS EN DATOS REALES:")
    print("-"*50)
    
    try:
        datos_reales = globals().get('datos_meteorologicos')
        
        if datos_reales is None:
            print("❌ No hay datos reales disponibles para recomendaciones")
            return
        
        recomendaciones = []
        
        # 1. Análisis de temperaturas extremas
        if 'temperatura_max' in datos_reales.columns and 'temperatura_min' in datos_reales.columns:
            temp_max = datos_reales['temperatura_max'].dropna()
            temp_min = datos_reales['temperatura_min'].dropna()
            
            if len(temp_max) > 0 and len(temp_min) > 0:
                # Heladas
                dias_helada = (temp_min <= 0).sum()
                if dias_helada > 0:
                    recomendaciones.append({
                        'tipo': 'critico',
                        'categoria': 'Protección contra heladas',
                        'descripcion': f'Se detectaron {dias_helada} días con heladas. Implementar sistemas de protección térmica para cultivos sensibles.',
                        'accion': 'Instalar mantas térmicas, sistemas de aspersión o calefactores para noches de helada'
                    })
                
                # Calor extremo
                dias_calor = (temp_max >= 35).sum()
                if dias_calor > 0:
                    recomendaciones.append({
                        'tipo': 'importante',
                        'categoria': 'Manejo de altas temperaturas', 
                        'descripcion': f'Se detectaron {dias_calor} días con temperaturas extremas (≥35°C). Ajustar riego y sombreo.',
                        'accion': 'Aumentar frecuencia de riego, instalar mallas de sombreo, programar riegos nocturnos'
                    })
                
                # Variabilidad térmica
                rango_termico = temp_max.max() - temp_min.min()
                if rango_termico > 40:
                    recomendaciones.append({
                        'tipo': 'atencion',
                        'categoria': 'Variabilidad térmica alta',
                        'descripcion': f'Amplio rango térmico detectado ({rango_termico:.1f}°C). Los cultivos requieren mayor adaptabilidad.',
                        'accion': 'Seleccionar variedades resistentes, implementar microclimas controlados'
                    })
        
        # 2. Análisis de precipitación
        if 'precipitacion' in datos_reales.columns:
            precipitacion = datos_reales['precipitacion'].dropna()
            
            if len(precipitacion) > 0:
                precip_total = precipitacion.sum()
                precip_anual_esperada = 400  # mm anuales para Quillota
                
                # Ajustar por período de datos
                dias_datos = len(precipitacion)
                precip_esperada_periodo = (precip_anual_esperada * dias_datos) / 365
                
                deficit_superavit = precip_total - precip_esperada_periodo
                
                if deficit_superavit < -50:  # Déficit significativo
                    recomendaciones.append({
                        'tipo': 'critico',
                        'categoria': 'Déficit hídrico',
                        'descripcion': f'Déficit de precipitación de {abs(deficit_superavit):.0f}mm respecto a lo esperado.',
                        'accion': 'Implementar riego complementario, mulching, seleccionar cultivos resistentes a sequía'
                    })
                elif deficit_superavit > 50:  # Exceso significativo
                    recomendaciones.append({
                        'tipo': 'importante',
                        'categoria': 'Exceso hídrico',
                        'descripcion': f'Exceso de precipitación de {deficit_superavit:.0f}mm respecto a lo esperado.',
                        'accion': 'Mejorar drenaje, prevenir enfermedades fúngicas, ajustar calendario de aplicaciones'
                    })
                
                # Días sin lluvia consecutivos
                dias_secos_consecutivos = calcular_dias_secos_consecutivos(precipitacion)
                if dias_secos_consecutivos > 30:
                    recomendaciones.append({
                        'tipo': 'importante',
                        'categoria': 'Períodos secos prolongados',
                        'descripcion': f'Período seco máximo de {dias_secos_consecutivos} días consecutivos.',
                        'accion': 'Planificar reservas de agua, implementar riego por goteo, usar retentores de humedad'
                    })
        
        # 3. Análisis de humedad
        if 'humedad_relativa' in datos_reales.columns:
            humedad = datos_reales['humedad_relativa'].dropna()
            
            if len(humedad) > 0:
                humedad_promedio = humedad.mean()
                
                if humedad_promedio > 80:
                    recomendaciones.append({
                        'tipo': 'atencion',
                        'categoria': 'Alta humedad relativa',
                        'descripcion': f'Humedad relativa promedio alta ({humedad_promedio:.1f}%). Riesgo de enfermedades fúngicas.',
                        'accion': 'Mejorar ventilación, aplicar fungicidas preventivos, espaciar plantaciones'
                    })
                elif humedad_promedio < 40:
                    recomendaciones.append({
                        'tipo': 'atencion',
                        'categoria': 'Baja humedad relativa',
                        'descripcion': f'Humedad relativa promedio baja ({humedad_promedio:.1f}%). Estrés hídrico en plantas.',
                        'accion': 'Aumentar frecuencia de riego, implementar nebulización, usar mulching orgánico'
                    })
        
        # 4. Análisis estacional
        if 'fecha' in datos_reales.columns:
            datos_reales_con_estacion = datos_reales.copy()
            datos_reales_con_estacion['mes'] = datos_reales_con_estacion['fecha'].dt.month
            
            # Definir estaciones del hemisferio sur
            def obtener_estacion(mes):
                if mes in [12, 1, 2]:
                    return 'Verano'
                elif mes in [3, 4, 5]:
                    return 'Otoño'
                elif mes in [6, 7, 8]:
                    return 'Invierno'
                else:
                    return 'Primavera'
            
            datos_reales_con_estacion['estacion'] = datos_reales_con_estacion['mes'].apply(obtener_estacion)
            
            # Análisis por estación
            if 'temperatura_max' in datos_reales_con_estacion.columns:
                analisis_estacional = datos_reales_con_estacion.groupby('estacion')['temperatura_max'].agg(['mean', 'min', 'max'])
                
                for estacion, stats in analisis_estacional.iterrows():
                    if estacion == 'Invierno' and stats['min'] < 5:
                        recomendaciones.append({
                            'tipo': 'estacional',
                            'categoria': f'Preparación {estacion}',
                            'descripcion': f'Invierno con temperaturas muy bajas (min: {stats["min"]:.1f}°C).',
                            'accion': 'Preparar protecciones invernales, seleccionar cultivos de temporada fría'
                        })
                    elif estacion == 'Verano' and stats['max'] > 38:
                        recomendaciones.append({
                            'tipo': 'estacional',
                            'categoria': f'Preparación {estacion}',
                            'descripcion': f'Verano con temperaturas muy altas (max: {stats["max"]:.1f}°C).',
                            'accion': 'Implementar sombreo, programar riegos frecuentes, seleccionar variedades resistentes al calor'
                        })
        
        # 5. Recomendaciones de monitoreo
        recomendaciones.append({
            'tipo': 'general',
            'categoria': 'Monitoreo continuo',
            'descripcion': 'Datos reales permiten monitoreo preciso de condiciones.',
            'accion': 'Actualizar datos regularmente, configurar alertas automáticas, llevar registro de correlaciones clima-cultivo'
        })
        
        # 6. Recomendaciones tecnológicas
        fuente_datos = datos_reales.get('fuente_datos', [''])[0] if 'fuente_datos' in datos_reales.columns else 'OpenMeteo'
        
        if 'openmeteo' in fuente_datos.lower():
            recomendaciones.append({
                'tipo': 'tecnologia',
                'categoria': 'Integración tecnológica',
                'descripcion': 'Sistema conectado con datos meteorológicos en tiempo real.',
                'accion': 'Configurar actualizaciones automáticas, integrar con sistemas de riego automático, desarrollar dashboard de monitoreo'
            })
        
        # Mostrar recomendaciones organizadas por prioridad
        tipos_orden = ['critico', 'importante', 'atencion', 'estacional', 'general', 'tecnologia']
        iconos_tipo = {
            'critico': '🚨',
            'importante': '⚠️', 
            'atencion': '💡',
            'estacional': '🌿',
            'general': '📊',
            'tecnologia': '🔧'
        }
        
        for tipo in tipos_orden:
            recs_tipo = [r for r in recomendaciones if r['tipo'] == tipo]
            
            if recs_tipo:
                print(f"\n{iconos_tipo.get(tipo, '•')} {tipo.upper()}:")
                
                for i, rec in enumerate(recs_tipo, 1):
                    print(f"   {i}. {rec['categoria']}")
                    print(f"      📋 {rec['descripcion']}")
                    print(f"      🎯 Acción: {rec['accion']}")
                    print()
        
        # Resumen de recomendaciones
        total_recs = len(recomendaciones)
        criticas = len([r for r in recomendaciones if r['tipo'] == 'critico'])
        importantes = len([r for r in recomendaciones if r['tipo'] == 'importante'])
        
        print(f"📋 RESUMEN: {total_recs} recomendaciones generadas")
        if criticas > 0:
            print(f"   🚨 {criticas} críticas - Atención inmediata requerida")
        if importantes > 0:
            print(f"   ⚠️ {importantes} importantes - Atención prioritaria")
        
        print(f"\n✅ Recomendaciones basadas en {len(datos_reales)} días de datos reales")
        
    except Exception as e:
        print(f"❌ Error generando recomendaciones: {e}")
        import traceback
        traceback.print_exc()

def calcular_dias_secos_consecutivos(precipitacion):
    """
    Calcula el número máximo de días secos consecutivos
    """
    try:
        dias_secos = precipitacion <= 1  # Considerar seco si llueve ≤1mm
        
        max_consecutivos = 0
        consecutivos_actuales = 0
        
        for es_seco in dias_secos:
            if es_seco:
                consecutivos_actuales += 1
                max_consecutivos = max(max_consecutivos, consecutivos_actuales)
            else:
                consecutivos_actuales = 0
        
        return max_consecutivos
        
    except Exception as e:
        print(f"Error calculando días secos: {e}")
        return 0

# ===============================================================================
# FUNCIÓN PRINCIPAL PARA MIGRAR A DATOS REALES
# ===============================================================================

def migrar_sistema_a_datos_reales():
    """
    Función principal para migrar todo el sistema a usar datos reales de OpenMeteo
    """
    
    print("🔄 MIGRACIÓN COMPLETA A DATOS REALES DE OPENMETEO")
    print("="*70)
    
    resultados_migracion = {
        'paso_1_conexion': False,
        'paso_2_carga_datos': False,
        'paso_3_procesamiento': False,
        'paso_4_ml_pipeline': False,
        'paso_5_validacion': False,
        'errores': [],
        'warnings': []
    }
    
    try:
        # PASO 1: Verificar conectividad
        print("1️⃣ Verificando conectividad con OpenMeteo...")
        
        try:
            import requests
            test_response = requests.get("https://api.open-meteo.com/v1/forecast?latitude=-32.88&longitude=-71.25&current_weather=true", timeout=10)
            
            if test_response.status_code == 200:
                print("   ✅ Conectividad con OpenMeteo: OK")
                resultados_migracion['paso_1_conexion'] = True
            else:
                print(f"   ❌ Error de conectividad: {test_response.status_code}")
                resultados_migracion['errores'].append("Conectividad con OpenMeteo falló")
        
        except Exception as e:
            print(f"   ❌ Error de conexión: {e}")
            resultados_migracion['errores'].append(f"Error de conexión: {e}")
        
        # PASO 2: Cargar datos reales
        print("\n2️⃣ Cargando datos meteorológicos reales...")
        
        if resultados_migracion['paso_1_conexion']:
            datos_reales = cargar_datos_con_openmeteo(usar_cache=True, forzar_actualizacion=False)
            
            if datos_reales is not None and len(datos_reales) > 0:
                print(f"   ✅ Datos cargados: {len(datos_reales)} registros")
                resultados_migracion['paso_2_carga_datos'] = True
                
                # Guardar en variable global
                globals()['datos_meteorologicos_originales'] = globals().get('datos_meteorologicos', pd.DataFrame())
                globals()['datos_meteorologicos'] = datos_reales
                
            else:
                print("   ❌ No se pudieron cargar datos reales")
                resultados_migracion['errores'].append("Carga de datos falló")
        else:
            print("   ⏭️ Saltando por falta de conectividad")
        
        # PASO 3: Procesar y limpiar datos
        print("\n3️⃣ Procesando datos reales...")
        
        if resultados_migracion['paso_2_carga_datos']:
            try:
                # Aplicar procesamiento existente
                if 'limpiar_datos_meteorologicos' in globals():
                    datos_limpios = limpiar_datos_meteorologicos(datos_reales)
                    globals()['datos_meteorologicos'] = datos_limpios
                    print("   ✅ Datos limpiados y procesados")
                else:
                    print("   ⚠️ Función de limpieza no disponible")
                    resultados_migracion['warnings'].append("Limpieza de datos no aplicada")
                
                resultados_migracion['paso_3_procesamiento'] = True
                
            except Exception as e:
                print(f"   ❌ Error procesando datos: {e}")
                resultados_migracion['errores'].append(f"Error procesamiento: {e}")
        else:
            print("   ⏭️ Saltando por falta de datos")
        
        # PASO 4: Ejecutar pipeline ML con datos reales
        print("\n4️⃣ Ejecutando pipeline ML con datos reales...")
        
        if resultados_migracion['paso_3_procesamiento']:
            try:
                # Ejecutar demo con datos reales
                if 'ejecutar_pipeline_completo_ml' in globals():
                    resultado_ml = ejecutar_pipeline_completo_ml(globals()['datos_meteorologicos'])
                    
                    if resultado_ml and resultado_ml.get('estado_final') != 'ERROR_CRITICO':
                        print("   ✅ Pipeline ML ejecutado con datos reales")
                        resultados_migracion['paso_4_ml_pipeline'] = True
                        
                        # Guardar resultados
                        globals()['resultados_ml_datos_reales'] = resultado_ml
                        
                    else:
                        print("   ⚠️ Pipeline ML completado con errores")
                        resultados_migracion['warnings'].append("Pipeline ML con limitaciones")
                        resultados_migracion['paso_4_ml_pipeline'] = True  # Parcialmente exitoso
                
                else:
                    print("   ❌ Pipeline ML no disponible")
                    resultados_migracion['errores'].append("Pipeline ML no disponible")
            
            except Exception as e:
                print(f"   ❌ Error en pipeline ML: {e}")
                resultados_migracion['errores'].append(f"Error pipeline ML: {e}")
        else:
            print("   ⏭️ Saltando por problemas en procesamiento")
        
        # PASO 5: Validación final
        print("\n5️⃣ Validación del sistema migrado...")
        
        try:
            # Validar que el sistema funciona con datos reales
            datos_actuales = globals().get('datos_meteorologicos')
            
            if datos_actuales is not None and len(datos_actuales) > 0:
                # Verificar columnas esenciales
                columnas_esenciales = ['fecha', 'temperatura_max', 'temperatura_min']
                columnas_presentes = [col for col in columnas_esenciales if col in datos_actuales.columns]
                
                if len(columnas_presentes) >= 2:
                    print(f"   ✅ Columnas esenciales presentes: {len(columnas_presentes)}/{len(columnas_esenciales)}")
                    
                    # Test rápido de funcionalidad
                    if 'test_rapido_sistema' in globals():
                        resultado_test = test_rapido_sistema()
                        tests_exitosos = resultado_test.get('tests_exitosos', 0)
                        
                        if tests_exitosos >= 2:
                            print(f"   ✅ Test rápido: {tests_exitosos} componentes funcionales")
                            resultados_migracion['paso_5_validacion'] = True
                        else:
                            print(f"   ⚠️ Test rápido: solo {tests_exitosos} componentes funcionales")
                            resultados_migracion['warnings'].append("Funcionalidad limitada detectada")
                    else:
                        resultados_migracion['paso_5_validacion'] = True
                        print("   ✅ Validación básica completada")
                
                else:
                    print("   ❌ Faltan columnas esenciales")
                    resultados_migracion['errores'].append("Faltan columnas esenciales")
            else:
                print("   ❌ No hay datos para validar")
                resultados_migracion['errores'].append("Sin datos para validación")
        
        except Exception as e:
            print(f"   ❌ Error en validación: {e}")
            resultados_migracion['errores'].append(f"Error validación: {e}")
        
        # REPORTE FINAL DE MIGRACIÓN
        print("\n" + "="*70)
        print("📋 REPORTE FINAL DE MIGRACIÓN")
        print("="*70)
        
        pasos_completados = sum(resultados_migracion[key] for key in resultados_migracion.keys() if key.startswith('paso_'))
        total_pasos = 5
        
        print(f"✅ Pasos completados: {pasos_completados}/{total_pasos}")
        print(f"❌ Errores: {len(resultados_migracion['errores'])}")
        print(f"⚠️ Advertencias: {len(resultados_migracion['warnings'])}")
        
        # Estado final de migración
        if pasos_completados == total_pasos and len(resultados_migracion['errores']) == 0:
            estado_migracion = "🟢 MIGRACIÓN EXITOSA"
            print(f"\n🎉 ¡MIGRACIÓN A DATOS REALES COMPLETADA EXITOSAMENTE!")
            print("🌐 El sistema ahora utiliza datos reales de OpenMeteo")
            
        elif pasos_completados >= 3 and len(resultados_migracion['errores']) <= 2:
            estado_migracion = "🟡 MIGRACIÓN PARCIALMENTE EXITOSA"
            print(f"\n⚠️ Migración completada con algunas limitaciones")
            print("🔧 Sistema funcional pero requiere atención a errores")
            
        elif pasos_completados >= 1:
            estado_migracion = "🟠 MIGRACIÓN CON PROBLEMAS"
            print(f"\n🔴 Migración con problemas significativos")
            print("🛠️ Se requiere intervención manual para completar migración")
            
        else:
            estado_migracion = "🔴 MIGRACIÓN FALLIDA"
            print(f"\n❌ Migración falló - sistema mantiene datos anteriores")
            print("🚨 Revisar conectividad y configuración")
        
        # Mostrar detalles de errores y advertencias
        if resultados_migracion['errores']:
            print(f"\n❌ ERRORES DETECTADOS:")
            for i, error in enumerate(resultados_migracion['errores'], 1):
                print(f"   {i}. {error}")
        
        if resultados_migracion['warnings']:
            print(f"\n⚠️ ADVERTENCIAS:")
            for i, warning in enumerate(resultados_migracion['warnings'], 1):
                print(f"   {i}. {warning}")
        
        # Instrucciones post-migración
        print(f"\n📋 INSTRUCCIONES POST-MIGRACIÓN:")
        print("-"*50)
        
        if pasos_completados >= 4:
            print("✅ Sistema listo para uso con datos reales:")
            print("   • Ejecute demo_con_datos_reales() para demostración completa")
            print("   • Use migrar_sistema_a_datos_reales() para actualizaciones futuras")
            print("   • Los modelos ML están entrenados con datos reales")
        
        elif pasos_completados >= 2:
            print("⚠️ Sistema parcialmente migrado:")
            print("   • Datos reales cargados pero funcionalidad limitada")
            print("   • Revisar errores antes de usar en producción")
            print("   • Considere ejecución manual de componentes faltantes")
        
        else:
            print("🔴 Sistema no migrado:")
            print("   • Verificar conectividad a internet")
            print("   • Revisar instalación de dependencias (requests)")
            print("   • Sistema continuará con datos disponibles previamente")
        
        # Actualizar estado global
        globals()['ESTADO_MIGRACION_OPENMETEO'] = {
            'estado': estado_migracion,
            'pasos_completados': pasos_completados,
            'total_pasos': total_pasos,
            'errores': resultados_migracion['errores'],
            'warnings': resultados_migracion['warnings'],
            'timestamp': pd.Timestamp.now(),
            'datos_fuente': 'OpenMeteo' if pasos_completados >= 2 else 'Anterior'
        }
        
        print("="*70)
        return resultados_migracion
        
    except Exception as e:
        print(f"\n💥 ERROR CRÍTICO EN MIGRACIÓN: {e}")
        import traceback
        traceback.print_exc()
        
        resultados_migracion['errores'].append(f"Error crítico: {e}")
        
        return resultados_migracion

# ===============================================================================
# FUNCIÓN DE ACTUALIZACIÓN AUTOMÁTICA DE DATOS
# ===============================================================================

def configurar_actualizacion_automatica(intervalo_horas=24):
    """
    Configura actualización automática de datos desde OpenMeteo
    
    Parámetros:
    -----------
    intervalo_horas : int
        Intervalo en horas para actualizar datos
    """
    
    print(f"⏰ CONFIGURANDO ACTUALIZACIÓN AUTOMÁTICA")
    print(f"🔄 Intervalo: cada {intervalo_horas} horas")
    print("="*50)
    
    try:
        # Guardar configuración en variable global
        config_auto = {
            'habilitado': True,
            'intervalo_horas': intervalo_horas,
            'ultima_actualizacion': pd.Timestamp.now(),
            'proxima_actualizacion': pd.Timestamp.now() + pd.Timedelta(hours=intervalo_horas),
            'actualizaciones_exitosas': 0,
            'actualizaciones_fallidas': 0
        }
        
        globals()['CONFIG_ACTUALIZACION_AUTO'] = config_auto
        
        print("✅ Configuración de actualización automática guardada")
        print(f"📅 Próxima actualización: {config_auto['proxima_actualizacion'].strftime('%Y-%m-%d %H:%M:%S')}")
        
        # Crear función de verificación
        def verificar_actualizacion_necesaria():
            """Verifica si es necesario actualizar datos"""
            
            config = globals().get('CONFIG_ACTUALIZACION_AUTO')
            if not config or not config.get('habilitado', False):
                return False
            
            ahora = pd.Timestamp.now()
            return ahora >= config.get('proxima_actualizacion', ahora)
        
        globals()['verificar_actualizacion_necesaria'] = verificar_actualizacion_necesaria
        
        print("🔧 Función de verificación creada")
        print("💡 Use verificar_actualizacion_necesaria() para comprobar si necesita actualización")
        
        return True
        
    except Exception as e:
        print(f"❌ Error configurando actualización automática: {e}")
        return False

def ejecutar_actualizacion_si_necesaria():
    """
    Ejecuta actualización de datos si es necesario según configuración
    """
    
    try:
        # Verificar si hay configuración de actualización
        if 'CONFIG_ACTUALIZACION_AUTO' not in globals():
            return False
        
        config = globals()['CONFIG_ACTUALIZACION_AUTO']
        
        if not config.get('habilitado', False):
            return False
        
        # Verificar si es necesario actualizar
        if 'verificar_actualizacion_necesaria' in globals():
            necesita_actualizacion = globals()['verificar_actualizacion_necesaria']()
            
            if necesita_actualizacion:
                print("🔄 Actualización automática necesaria - ejecutando...")
                
                # Intentar actualización
                resultado = cargar_datos_con_openmeteo(usar_cache=False, forzar_actualizacion=True)
                
                if resultado is not None:
                    print("✅ Actualización automática exitosa")
                    
                    # Actualizar configuración
                    config['ultima_actualizacion'] = pd.Timestamp.now()
                    config['proxima_actualizacion'] = pd.Timestamp.now() + pd.Timedelta(hours=config['intervalo_horas'])
                    config['actualizaciones_exitosas'] += 1
                    
                    print(f"📅 Próxima actualización: {config['proxima_actualizacion'].strftime('%Y-%m-%d %H:%M:%S')}")
                    
                    return True
                
                else:
                    print("❌ Actualización automática falló")
                    config['actualizaciones_fallidas'] += 1
                    
                    return False
            else:
                return False  # No necesitaba actualización
        
        return False
        
    except Exception as e:
        print(f"❌ Error en actualización automática: {e}")
        return False

# ===============================================================================
# INTEGRACIÓN FINAL CON EL SISTEMA EXISTENTE
# ===============================================================================

def inicializar_sistema_con_openmeteo():
    """
    Función principal para inicializar todo el sistema con integración OpenMeteo
    """
    
    print("🚀 INICIALIZANDO SISTEMA MIP QUILLOTA CON OPENMETEO")
    print("="*70)
    
    try:
        # 1. Verificar si ya hay datos cargados
        datos_existentes = globals().get('datos_meteorologicos')
        
        if datos_existentes is not None and len(datos_existentes) > 0:
            print(f"📊 Datos existentes detectados: {len(datos_existentes)} registros")
            
            # Verificar si son datos reales o sintéticos
            fuente_actual = 'sintéticos'
            if 'fuente_datos' in datos_existentes.columns:
                fuentes = datos_existentes['fuente_datos'].unique()
                if any('openmeteo' in str(f).lower() for f in fuentes):
                    fuente_actual = 'OpenMeteo'
            
            print(f"🔍 Fuente actual: {fuente_actual}")
            
            if fuente_actual == 'sintéticos':
                print("🔄 Migrando a datos reales...")
                resultado_migracion = migrar_sistema_a_datos_reales()
                
                if resultado_migracion['paso_2_carga_datos']:
                    print("✅ Sistema migrado a datos reales exitosamente")
                else:
                    print("⚠️ Migración falló, continuando con datos existentes")
            else:
                print("✅ Sistema ya utiliza datos reales")
                
                # Verificar si necesita actualización
                if ejecutar_actualizacion_si_necesaria():
                    print("🔄 Datos actualizados automáticamente")
        
        else:
            print("📊 No hay datos previos, cargando desde OpenMeteo...")
            datos_nuevos = cargar_datos_con_openmeteo()
            
            if datos_nuevos is not None:
                print("✅ Datos iniciales cargados desde OpenMeteo")
            else:
                print("❌ No se pudieron cargar datos iniciales")
                return False
        
        # 2. Configurar actualización automática
        print("\n⏰ Configurando actualización automática...")
        configurar_actualizacion_automatica(intervalo_horas=24)
        
        # 3. Ejecutar validación final
        print("\n🔍 Validación final del sistema...")
        if 'validar_sistema_completo' in globals():
            validaciones, errores, estado = validar_sistema_completo()
            print(f"📋 Estado de validación: {estado}")
        
        # 4. Mostrar resumen final
        datos_finales = globals().get('datos_meteorologicos')
        
        if datos_finales is not None:
            print(f"\n📊 SISTEMA INICIALIZADO EXITOSAMENTE:")
            print(f"   📈 Registros disponibles: {len(datos_finales)}")
            
            if 'fecha' in datos_finales.columns:
                fecha_min = datos_finales['fecha'].min().strftime('%Y-%m-%d')
                fecha_max = datos_finales['fecha'].max().strftime('%Y-%m-%d')
                print(f"   📅 Período de datos: {fecha_min} a {fecha_max}")
            
            # Verificar fuente final
            if 'fuente_datos' in datos_finales.columns:
                fuentes_finales = datos_finales['fuente_datos'].unique()
                print(f"   🌐 Fuentes de datos: {', '.join(fuentes_finales)}")
            
            print(f"   🤖 Listo para Machine Learning y predicciones")
            
            return True
        
        else:
            print(f"\n❌ SISTEMA NO SE PUDO INICIALIZAR")
            print("🔧 Revisar conectividad y dependencias")
            return False
        
    except Exception as e:
        print(f"\n💥 ERROR CRÍTICO EN INICIALIZACIÓN: {e}")
        import traceback
        traceback.print_exc()
        return False

# ===============================================================================
# ACTUALIZACIÓN DE LA FUNCIÓN DEMO PRINCIPAL
# ===============================================================================

def demo_completa_con_openmeteo():
    """
    Demostración completa del sistema incluyendo integración OpenMeteo
    """
    
    print("🌟 DEMOSTRACIÓN COMPLETA - SISTEMA MIP QUILLOTA CON OPENMETEO")
    print("="*70)
    
    try:
        # 1. Inicializar sistema completo
        print("🚀 Fase 1: Inicialización del sistema...")
        exito_init = inicializar_sistema_con_openmeteo()
        
        if not exito_init:
            print("⚠️ Inicialización con problemas, continuando con funcionalidad disponible")
        
        # 2. Ejecutar demostración con datos reales
        print("\n🌐 Fase 2: Demostración con datos reales...")
        demo_con_datos_reales()
        
        # 3. Mostrar capacidades del sistema
        print("\n🎯 Fase 3: Capacidades del sistema...")
        
        # Mostrar información del sistema integrado
        datos_actuales = globals().get('datos_meteorologicos')
        if datos_actuales is not None:
            print(f"📊 Sistema operativo con {len(datos_actuales)} registros de datos")
            
            # Verificar componentes activos
            componentes_activos = []
            
            if 'ejecutar_pipeline_completo_ml' in globals():
                componentes_activos.append("🤖 Machine Learning")
            
            if 'CONFIG_ACTUALIZACION_AUTO' in globals():
                componentes_activos.append("⏰ Actualización automática")
            
            if any('openmeteo' in str(f).lower() for f in datos_actuales.get('fuente_datos', [])):
                componentes_activos.append("🌐 Datos reales OpenMeteo")
            
            if componentes_activos:
                print("✅ Componentes activos:")
                for comp in componentes_activos:
                    print(f"   • {comp}")
        
        # 4. Recomendaciones finales
        print("\n💡 Fase 4: Recomendaciones del sistema...")
        generar_recomendaciones_datos_reales()
        
        print("\n🏁 DEMOSTRACIÓN COMPLETA FINALIZADA")
        print("="*70)
        
        # Estado final
        print("🎉 ¡Sistema MIP Quillota completamente operativo!")
        print("🌾 Listo para agricultura de precisión con datos meteorológicos reales")
        
        return True
        
    except Exception as e:
        print(f"\n💥 ERROR EN DEMOSTRACIÓN COMPLETA: {e}")
        import traceback
        traceback.print_exc()
        return False

# ===============================================================================
# ACTUALIZACIÓN DEL BLOQUE DE EJECUCIÓN PRINCIPAL
# ===============================================================================

# Actualizar el bloque principal para incluir OpenMeteo
if __name__ == "__main__":
    try:
        print("\n" + "🌐"*25)
        print("🚀 INICIANDO SISTEMA MIP QUILLOTA - ML CON OPENMETEO")
        print("🌐"*25)
        
        # Preguntar al usuario qué tipo de demo ejecutar
        print("\n📋 OPCIONES DE DEMOSTRACIÓN:")
        print("1️⃣ Demo básica (datos disponibles)")
        print("2️⃣ Demo con datos OpenMeteo")
        print("3️⃣ Demo completa con integración OpenMeteo")
        print("4️⃣ Solo migrar a datos OpenMeteo")
        print("5️⃣ Diagnóstico del sistema")
        
        # Para ejecución automática, usar opción 3
        opcion_demo = 3  # Cambiar aquí para diferentes opciones
        
        if opcion_demo == 1:
            print("\n🎬 Ejecutando demo básica...")
            resultado_demo = demo_modelos_ml()
            
        elif opcion_demo == 2:
            print("\n🌐 Ejecutando demo con datos OpenMeteo...")
            resultado_demo = demo_con_datos_reales()
            
        elif opcion_demo == 3:
            print("\n🌟 Ejecutando demo completa con integración OpenMeteo...")
            resultado_demo = demo_completa_con_openmeteo()
            
        elif opcion_demo == 4:
            print("\n🔄 Migrando sistema a datos OpenMeteo...")
            resultado_demo = migrar_sistema_a_datos_reales()
            
        elif opcion_demo == 5:
            print("\n🔍 Ejecutando diagnóstico del sistema...")
            resultado_demo = diagnostico_y_reparacion()
            
        else:
            print("\n⚡ Ejecutando demo completa por defecto...")
            resultado_demo = demo_completa_con_openmeteo()
        
        # Mostrar resumen final de la ejecución
        print("\n" + "="*70)
        print("🏁 EJECUCIÓN COMPLETADA")
        print("="*70)
        
        # Estado final del sistema
        sistema_operativo = False
        datos_reales_activos = False
        
        # Verificar estado de datos
        if 'datos_meteorologicos' in globals() and globals()['datos_meteorologicos'] is not None:
            datos_finales = globals()['datos_meteorologicos']
            sistema_operativo = True
            
            # Verificar si son datos reales
            if 'fuente_datos' in datos_finales.columns:
                fuentes = datos_finales['fuente_datos'].unique()
                datos_reales_activos = any('openmeteo' in str(f).lower() for f in fuentes)
        
        # Reporte de estado final
        print("📊 ESTADO FINAL DEL SISTEMA:")
        print("-"*40)
        
        if sistema_operativo:
            print("✅ Sistema operativo")
            if datos_reales_activos:
                print("✅ Datos reales de OpenMeteo activos")
                print("🌐 Conectividad con datos meteorológicos en tiempo real")
            else:
                print("⚠️ Usando datos sintéticos o de respaldo")
        else:
            print("❌ Sistema no completamente operativo")
        
        # Verificar componentes específicos
        componentes_disponibles = {
            'Machine Learning': 'ejecutar_pipeline_completo_ml' in globals(),
            'Datos OpenMeteo': datos_reales_activos,
            'Actualización automática': 'CONFIG_ACTUALIZACION_AUTO' in globals(),
            'Diagnóstico': 'diagnostico_y_reparacion' in globals(),
            'Validación': 'validar_sistema_completo' in globals()
        }
        
        print("\n🔧 COMPONENTES DISPONIBLES:")
        for componente, disponible in componentes_disponibles.items():
            estado = "✅" if disponible else "❌"
            print(f"   {estado} {componente}")
        
        # Instrucciones finales
        print("\n📋 INSTRUCCIONES DE USO:")
        print("-"*40)
        
        if sistema_operativo and datos_reales_activos:
            print("🟢 SISTEMA COMPLETAMENTE OPERATIVO CON DATOS REALES:")
            print("   • demo_completa_con_openmeteo() - Demostración completa")
            print("   • ejecutar_actualizacion_si_necesaria() - Actualizar datos")
            print("   • generar_recomendaciones_datos_reales() - Recomendaciones agrícolas")
            
        elif sistema_operativo:
            print("🟡 SISTEMA OPERATIVO CON LIMITACIONES:")
            print("   • demo_modelos_ml() - Demostración básica")
            print("   • migrar_sistema_a_datos_reales() - Migrar a datos OpenMeteo")
            print("   • diagnostico_y_reparacion() - Resolver problemas")
            
        else:
            print("🔴 SISTEMA CON PROBLEMAS:")
            print("   • diagnostico_y_reparacion() - Diagnosticar y reparar")
            print("   • validar_sistema_completo() - Validar instalación")
            print("   • test_rapido_sistema() - Prueba básica")
        
        # Funciones siempre disponibles
        print("\n🛠️ FUNCIONES UTILITARIAS SIEMPRE DISPONIBLES:")
        print("   • cargar_datos_con_openmeteo() - Cargar datos desde OpenMeteo")
        print("   • configurar_actualizacion_automatica() - Configurar auto-actualización")
        print("   • detectar_eventos_extremos_openmeteo() - Detectar eventos extremos")
        
        # Información de performance
        if 'resultados_ml_datos_reales' in globals():
            resultados_ml = globals()['resultados_ml_datos_reales']
            if 'reporte_final' in resultados_ml and resultados_ml['reporte_final']:
                mejor_r2 = resultados_ml['reporte_final'].get('mejor_r2', 0)
                print(f"\n🎯 PERFORMANCE DEL SISTEMA:")
                print(f"   🏆 Mejor R² con datos reales: {mejor_r2:.1%}")
                
                if mejor_r2 >= 0.8:
                    print("   🥇 Rendimiento excelente - Listo para producción")
                elif mejor_r2 >= 0.6:
                    print("   🥈 Buen rendimiento - Apto para uso")
                elif mejor_r2 >= 0.4:
                    print("   🥉 Rendimiento regular - Considerar mejoras")
                else:
                    print("   ⚠️ Rendimiento bajo - Revisar datos y configuración")
        
        # Información de conectividad
        if 'ESTADO_MIGRACION_OPENMETEO' in globals():
            estado_migracion = globals()['ESTADO_MIGRACION_OPENMETEO']
            print(f"\n🌐 CONECTIVIDAD OPENMETEO:")
            print(f"   📊 Estado: {estado_migracion.get('estado', 'Desconocido')}")
            print(f"   📅 Última actualización: {estado_migracion.get('timestamp', 'N/A')}")
        
        # Recomendaciones finales
        print("\n💡 PRÓXIMOS PASOS RECOMENDADOS:")
        print("-"*40)
        
        if datos_reales_activos:
            print("✅ Sistema con datos reales - Próximos pasos:")
            print("   1. Configurar alertas automáticas para eventos extremos")
            print("   2. Integrar con sistemas de riego automático")
            print("   3. Desarrollar dashboard de monitoreo")
            print("   4. Configurar reportes automáticos periódicos")
            
        elif sistema_operativo:
            print("⚠️ Sistema operativo pero sin datos reales:")
            print("   1. Verificar conectividad a internet")
            print("   2. Ejecutar migrar_sistema_a_datos_reales()")
            print("   3. Configurar actualizaciones automáticas")
            
        else:
            print("🔧 Sistema requiere configuración:")
            print("   1. Ejecutar diagnostico_y_reparacion()")
            print("   2. Verificar instalación de dependencias")
            print("   3. Revisar configuración de red")
        
        # Footer con información del módulo
        print("\n" + "="*70)
        print("🤖 MÓDULO ML CON INTEGRACIÓN OPENMETEO - v1.1.0")
        print("🌾 Sistema MIP Quillota para Agricultura de Precisión")
        print("📧 Soporte: Ejecutar help(nombre_funcion) para documentación")
        print("="*70)
        
    except Exception as critical_error:
        print(f"\n💥 ERROR CRÍTICO EN EJECUCIÓN PRINCIPAL: {critical_error}")
        import traceback
        traceback.print_exc()
        
        print(f"\n🆘 MODO DE EMERGENCIA - FUNCIONES BÁSICAS")
        print("="*50)
        print("❌ La ejecución automática falló")
        print("🔧 Funciones de emergencia disponibles:")
        print("   • diagnostico_y_reparacion() - Diagnosticar problemas")
        print("   • test_rapido_sistema() - Probar funcionalidad básica") 
        print("   • cargar_datos_con_openmeteo() - Cargar datos manualmente")
        print("   • validar_sistema_completo() - Validar instalación")
        
        # Guardar error crítico para análisis
        globals()['ERROR_CRITICO_EJECUCION'] = {
            'error': str(critical_error),
            'timestamp': pd.Timestamp.now(),
            'traceback': traceback.format_exc()
        }

else:
    # Modo importación
    print("📦 Módulo ML con OpenMeteo importado como librería")
    print("🌐 Funciones de integración OpenMeteo disponibles")
    print("💡 Ejecute inicializar_sistema_con_openmeteo() para configurar")

# ===============================================================================
# METADATA ACTUALIZADA DEL MÓDULO
# ===============================================================================

# Actualizar metadata con información de OpenMeteo
__version__ = "1.1.0"
__author__ = "Sistema MIP Quillota"
__description__ = "Módulo ML para agricultura de precisión con integración OpenMeteo"
__openmeteo_integration__ = True
__data_sources__ = ["OpenMeteo API", "Datos sintéticos de respaldo"]

# Actualizar funciones exportadas
__all__.extend([
    'importar_datos_openmeteo',
    'obtener_pronostico_openmeteo', 
    'cargar_datos_con_openmeteo',
    'actualizar_pipeline_con_openmeteo',
    'demo_con_datos_reales',
    'migrar_sistema_a_datos_reales',
    'configurar_actualizacion_automatica',
    'ejecutar_actualizacion_si_necesaria',
    'inicializar_sistema_con_openmeteo',
    'demo_completa_con_openmeteo',
    'detectar_eventos_extremos_openmeteo',
    'generar_recomendaciones_datos_reales'
])

# Estado final del módulo
print(f"\n🌟 MÓDULO COMPLETO CARGADO - v{__version__}")
print(f"🌐 Integración OpenMeteo: {'✅' if __openmeteo_integration__ else '❌'}")
print(f"📊 Fuentes de datos: {', '.join(__data_sources__)}")
print(f"🔧 Funciones exportadas: {len(__all__)}")

# Verificación final de conectividad OpenMeteo
try:
    import requests
    test_conn = requests.get("https://api.open-meteo.com", timeout=5)
    if test_conn.status_code == 200:
        print("🌐 Conectividad OpenMeteo: ✅ ACTIVA")
    else:
        print("🌐 Conectividad OpenMeteo: ⚠️ LIMITADA")
except:
    print("🌐 Conectividad OpenMeteo: ❌ NO VERIFICADA")

print("🌾 ¡Sistema MIP Quillota ML con OpenMeteo listo!")
print("🚀 Ejecute demo_completa_con_openmeteo() para comenzar")



